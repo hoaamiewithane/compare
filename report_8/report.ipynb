{
 "cells": [
  {
   "cell_type": "code",
   "execution_count": 1,
   "metadata": {},
   "outputs": [],
   "source": [
    "import pandas as pd\n",
    "import numpy as np\n",
    "import os\n",
    "from itertools import combinations\n",
    "import datacompy\n",
    "folder_path=r'C:\\Users\\hoa.nd\\Desktop\\WAP\\compare\\report_8'"
   ]
  },
  {
   "cell_type": "code",
   "execution_count": 3,
   "metadata": {},
   "outputs": [
    {
     "name": "stdout",
     "output_type": "stream",
     "text": [
      "Index(['Unnamed: 0', 'Type', 'General Ledger Account',\n",
      "       'G/L Account: Long Text', 'Posting Year/Month (Calendar)', 'Region',\n",
      "       'Amount in Local Currency - USD for Op Co.'],\n",
      "      dtype='object')\n",
      "Index(['Report Date*', 'Type', 'General Ledger Account',\n",
      "       'G/L Account: Long Text', 'Posting Year/Month (Calendar)', 'Region',\n",
      "       'Amount in USD*'],\n",
      "      dtype='object')\n"
     ]
    }
   ],
   "source": [
    "\n",
    "try:\n",
    "  df_cognos = pd.read_pickle('df_cognos.pkl')\n",
    "  df_looker = pd.read_pickle('df_looker.pkl')\n",
    "except FileNotFoundError:\n",
    "    # If pickle files are not found, read Excel files\n",
    "  df_cognos = pd.read_excel(r'C:\\Users\\hoa.nd\\Desktop\\WAP\\compare\\report_8\\Cognos.xlsx', dtype=str)\n",
    "  df_looker = pd.read_excel(r'C:\\Users\\hoa.nd\\Desktop\\WAP\\compare\\report_8\\Looker.xlsx', dtype=str)\n",
    "  \n",
    "  # Save DataFrames to pickle files\n",
    "  df_cognos.to_pickle('df_cognos.pkl')\n",
    "  df_looker.to_pickle('df_looker.pkl')\n",
    "\n",
    "print(df_looker.columns)\n",
    "print(df_cognos.columns)\n"
   ]
  }
 ],
 "metadata": {
  "kernelspec": {
   "display_name": "Python 3",
   "language": "python",
   "name": "python3"
  },
  "language_info": {
   "codemirror_mode": {
    "name": "ipython",
    "version": 3
   },
   "file_extension": ".py",
   "mimetype": "text/x-python",
   "name": "python",
   "nbconvert_exporter": "python",
   "pygments_lexer": "ipython3",
   "version": "3.12.0"
  }
 },
 "nbformat": 4,
 "nbformat_minor": 2
}
